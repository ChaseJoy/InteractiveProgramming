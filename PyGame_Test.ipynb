{
 "cells": [
  {
   "cell_type": "code",
   "execution_count": 20,
   "metadata": {},
   "outputs": [
    {
     "name": "stdout",
     "output_type": "stream",
     "text": [
      "00\n"
     ]
    }
   ],
   "source": [
    "class keys:\n",
    "    def __init__(self, event= None):\n",
    "        if event.type == pygame.K_UP:\n",
    "            self.UP = True\n",
    "        else:\n",
    "            self.UP = False\n",
    "        if event.type == pygame.K_DOWN:\n",
    "            self.DOWN = True\n",
    "        else:\n",
    "            self.DOWN = False\n",
    "        if event.type == pygame.K_RIGHT:\n",
    "            self.RIGHT = True\n",
    "        else:\n",
    "            self.RIGHT = False    \n",
    "        if event.type == pygame.K_LEFT:\n",
    "            self.LEFT = True\n",
    "        else:\n",
    "            self.LEFT = False     \n",
    "        \n",
    "def xy_position_to_pixels(Rectangle, window_size):\n",
    "    \"\"\"Takes:In-game coordinate rectangle\n",
    "    Converts in game coordinates to pixels. Also, note that the in-game position refers to the LOWER RIGHT hand\n",
    "    corner of the sprite. \n",
    "    Returns: rectangle in pixel coordinates\"\"\"\n",
    "    x = Rectangle[0]\n",
    "    y = Rectangle[1]\n",
    "    width = Rectangle[2]\n",
    "    height = Rectangle[3]\n",
    "    pixel_x = int(float(x/300)*window_size[0])\n",
    "    pixel_y = window_size[1] - int(float(y/200)*window_size[1])\n",
    "    pixel_width = int(float(width/300)*window_size[0])\n",
    "    pixel_height = int(float(height/200)*window_size[1])\n",
    "    pixel_x -= pixel_width\n",
    "    pixel_y -= pixel_height\n",
    "    return (pixel_x, pixel_y, pixel_width, pixel_height)\n",
    "\n",
    "\n",
    "\n",
    "class position:\n",
    "    def __init__(self, current_x = 0, current_y = 0, current_xs = 0, current_ys = 0, floor = 0, button=None):\n",
    "        self.current_x = current_x\n",
    "        self.current_y = current_y\n",
    "        self.current_xs = current_xs\n",
    "        self.current_ys = current_ys\n",
    "        self.button = button\n",
    "        self.floor = floor\n",
    "\n",
    "    def __str__(self):\n",
    "        return str(self.current_x)+str(self.current_y)\n",
    "    \n",
    "    def give_next_position(self): #fix button \n",
    "        #Calculate speeds\n",
    "        if self.current_y == self.floor:\n",
    "            self.current_ys = 0\n",
    "            if self.button.UP:\n",
    "                self.current_ys = 10\n",
    "        if self.current_y > self.floor:\n",
    "            self.current_ys -= 2\n",
    "        if self.button.RIGHT:\n",
    "            self.current_xs = 10\n",
    "        elif self.button.LEFT:\n",
    "            self.current_xs = 10\n",
    "\n",
    "        self.current_x += self.current_xs\n",
    "        self.current_y += self.current_ys\n",
    "        \n",
    "thing = position()\n",
    "print(thing)"
   ]
  },
  {
   "cell_type": "code",
   "execution_count": 21,
   "metadata": {},
   "outputs": [
    {
     "ename": "error",
     "evalue": "Cannot set negative sized display mode",
     "output_type": "error",
     "traceback": [
      "\u001b[0;31m---------------------------------------------------------------------------\u001b[0m",
      "\u001b[0;31merror\u001b[0m                                     Traceback (most recent call last)",
      "\u001b[0;32m<ipython-input-21-b73ce9b5bccf>\u001b[0m in \u001b[0;36m<module>\u001b[0;34m()\u001b[0m\n\u001b[1;32m      4\u001b[0m \u001b[0mpygame\u001b[0m\u001b[0;34m.\u001b[0m\u001b[0minit\u001b[0m\u001b[0;34m(\u001b[0m\u001b[0;34m)\u001b[0m\u001b[0;34m\u001b[0m\u001b[0m\n\u001b[1;32m      5\u001b[0m \u001b[0mwindow_size\u001b[0m \u001b[0;34m=\u001b[0m \u001b[0;34m(\u001b[0m\u001b[0mpygame\u001b[0m\u001b[0;34m.\u001b[0m\u001b[0mdisplay\u001b[0m\u001b[0;34m.\u001b[0m\u001b[0mInfo\u001b[0m\u001b[0;34m(\u001b[0m\u001b[0;34m)\u001b[0m\u001b[0;34m.\u001b[0m\u001b[0mcurrent_w\u001b[0m \u001b[0;34m-\u001b[0m\u001b[0;36m100\u001b[0m\u001b[0;34m,\u001b[0m \u001b[0mpygame\u001b[0m\u001b[0;34m.\u001b[0m\u001b[0mdisplay\u001b[0m\u001b[0;34m.\u001b[0m\u001b[0mInfo\u001b[0m\u001b[0;34m(\u001b[0m\u001b[0;34m)\u001b[0m\u001b[0;34m.\u001b[0m\u001b[0mcurrent_h\u001b[0m \u001b[0;34m-\u001b[0m \u001b[0;36m100\u001b[0m\u001b[0;34m)\u001b[0m\u001b[0;34m\u001b[0m\u001b[0m\n\u001b[0;32m----> 6\u001b[0;31m \u001b[0mscreen\u001b[0m \u001b[0;34m=\u001b[0m \u001b[0mpygame\u001b[0m\u001b[0;34m.\u001b[0m\u001b[0mdisplay\u001b[0m\u001b[0;34m.\u001b[0m\u001b[0mset_mode\u001b[0m\u001b[0;34m(\u001b[0m\u001b[0mwindow_size\u001b[0m\u001b[0;34m)\u001b[0m\u001b[0;34m\u001b[0m\u001b[0m\n\u001b[0m\u001b[1;32m      7\u001b[0m \u001b[0mpygame\u001b[0m\u001b[0;34m.\u001b[0m\u001b[0mdisplay\u001b[0m\u001b[0;34m.\u001b[0m\u001b[0mset_caption\u001b[0m\u001b[0;34m(\u001b[0m\u001b[0;34m\"Egg World\"\u001b[0m\u001b[0;34m)\u001b[0m\u001b[0;34m\u001b[0m\u001b[0m\n\u001b[1;32m      8\u001b[0m \u001b[0mdone\u001b[0m \u001b[0;34m=\u001b[0m \u001b[0;32mFalse\u001b[0m\u001b[0;34m\u001b[0m\u001b[0m\n",
      "\u001b[0;31merror\u001b[0m: Cannot set negative sized display mode"
     ]
    }
   ],
   "source": [
    "import pygame\n",
    "\n",
    "\n",
    "pygame.init()\n",
    "window_size = (pygame.display.Info().current_w -100, pygame.display.Info().current_h - 100)\n",
    "screen = pygame.display.set_mode(window_size)\n",
    "pygame.display.set_caption(\"Egg World\")\n",
    "done = False\n",
    "clock = pygame.time.Clock()\n",
    "BLUE = (0,0,255)\n",
    "\n",
    "current_position = position()  \n",
    "\n",
    "x = 0\n",
    "y = 0\n",
    "#timer_event = pygame.USEREVENT + 1\n",
    "#pygame.time.set_timer(timer_event, 250) #makes it so that your not waiting for events to run\n",
    "while not done:\n",
    "    clock.tick(50)\n",
    "    for event in pygame.event.get():\n",
    "        if event.type == pygame.QUIT:\n",
    "            done = True\n",
    "        \n",
    "        keys_pressed = keys(event)\n",
    "            \n",
    "    current_position.button = keys_pressed\n",
    "    current_position.give_next_position()\n",
    "    \n",
    "    screen.fill((0,0,0))\n",
    "    pygame.draw.rect(screen, BLUE, (x, y, 200, 500))\n",
    "    pygame.display.flip()\n",
    "    if y or x < window_size[1]:\n",
    "        y+=1\n",
    "        x+=1\n",
    "        \n",
    "        \n",
    "pygame.quit()\n",
    "\n"
   ]
  },
  {
   "cell_type": "code",
   "execution_count": null,
   "metadata": {
    "collapsed": true
   },
   "outputs": [],
   "source": []
  },
  {
   "cell_type": "code",
   "execution_count": null,
   "metadata": {
    "collapsed": true
   },
   "outputs": [],
   "source": []
  }
 ],
 "metadata": {
  "kernelspec": {
   "display_name": "Python 3",
   "language": "python",
   "name": "python3"
  },
  "language_info": {
   "codemirror_mode": {
    "name": "ipython",
    "version": 3
   },
   "file_extension": ".py",
   "mimetype": "text/x-python",
   "name": "python",
   "nbconvert_exporter": "python",
   "pygments_lexer": "ipython3",
   "version": "3.6.3"
  }
 },
 "nbformat": 4,
 "nbformat_minor": 2
}
