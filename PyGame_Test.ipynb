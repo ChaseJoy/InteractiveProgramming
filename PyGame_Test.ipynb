{
 "cells": [
  {
   "cell_type": "code",
   "execution_count": 14,
   "metadata": {
    "collapsed": true
   },
   "outputs": [],
   "source": [
    "import pygame\n",
    "pygame.init()\n",
    "window_size = (pygame.display.Info().current_w -100, pygame.display.Info().current_h - 100)\n",
    "screen = pygame.display.set_mode(window_size)\n",
    "pygame.display.set_caption(\"Egg World\")\n",
    "done = False\n",
    "clock = pygame.time.Clock()\n",
    "BLUE = (0,0,255)\n",
    "x = 0 \n",
    "y = 0\n",
    "while not done:\n",
    "    for event in pygame.event.get():\n",
    "        if event.type == pygame.QUIT:\n",
    "            done = True\n",
    "    screen.fill((0,0,0))\n",
    "    pygame.draw.rect(screen, BLUE, (x, y, 200, 500))\n",
    "    pygame.display.flip()\n",
    "    if y or x < dimensions_y-100:\n",
    "        y+=1\n",
    "        x+=1\n",
    "    clock.tick(50)\n",
    "pygame.quit()\n",
    "\n"
   ]
  },
  {
   "cell_type": "code",
   "execution_count": 16,
   "metadata": {},
   "outputs": [
    {
     "ename": "SyntaxError",
     "evalue": "invalid syntax (<ipython-input-16-cf3afaa8533b>, line 14)",
     "output_type": "error",
     "traceback": [
      "\u001b[0;36m  File \u001b[0;32m\"<ipython-input-16-cf3afaa8533b>\"\u001b[0;36m, line \u001b[0;32m14\u001b[0m\n\u001b[0;31m    if current_y\u001b[0m\n\u001b[0m                ^\u001b[0m\n\u001b[0;31mSyntaxError\u001b[0m\u001b[0;31m:\u001b[0m invalid syntax\n"
     ]
    }
   ],
   "source": [
    "def xy_position_to_pixels(Rectangle, window_size):\n",
    "    \"\"\"Takes:In-game coordinate rectangle\n",
    "    Converts in game coordinates to pixels. Also, note that the in-game position refers to the LOWER RIGHT hand\n",
    "    corner of the sprite. \n",
    "    Returns: rectangle in pixel coordinates\"\"\"\n",
    "    x = Rectangle[0]\n",
    "    y = Rectangle[1]\n",
    "    width = Rectangle[2]\n",
    "    height = Rectangle[3]\n",
    "    pixel_x = float(x/300)*window_size[0]\n",
    "    pixel_y = float(y/200)*window_size[1]\n",
    "    pixel_width = float(width/300)*window_size[0]\n",
    "    pixel_height = float(height/200)*window_size[1]\n",
    "    pixel_x -= pixel_width\n",
    "    return (pixel_x, pixel_y, pixel_width, pixel_height)\n",
    "\n",
    "def give_next_position(current_x, current_y, current_xs, current_ys, floor, button_states):\n",
    "    if current_y\n",
    "        \n",
    "        \n",
    "    "
   ]
  }
 ],
 "metadata": {
  "kernelspec": {
   "display_name": "Python 3",
   "language": "python",
   "name": "python3"
  },
  "language_info": {
   "codemirror_mode": {
    "name": "ipython",
    "version": 3
   },
   "file_extension": ".py",
   "mimetype": "text/x-python",
   "name": "python",
   "nbconvert_exporter": "python",
   "pygments_lexer": "ipython3",
   "version": "3.6.3"
  }
 },
 "nbformat": 4,
 "nbformat_minor": 2
}
